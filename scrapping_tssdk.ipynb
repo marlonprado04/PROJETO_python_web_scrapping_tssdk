{
 "cells": [
  {
   "cell_type": "markdown",
   "id": "6167735e",
   "metadata": {},
   "source": [
    "# Links e informações necessárias:\n",
    "\n",
    "Site raiz de onde será feita a extração: https://sites.google.com/view/tssdklscanptbr/\n",
    "\n",
    "Estrutura do site para cada volume: https://sites.google.com/view/tssdklscanptbr/volume-1\n",
    "\n",
    "# Classes de cada tag utilizadas para o scrapping:\n",
    "\n",
    "Imagens: `<img class=\"CENy8b\">`<br>\n",
    "Títulos: h2 <br>\n",
    "Parágrafos de texto: p.CDt4Ke zfr3Q <br>\n",
    "Div do capítulo completo (até próxima imagem): jXK9ad-SmKAyb\n"
   ]
  },
  {
   "cell_type": "code",
   "execution_count": null,
   "id": "a85b6b09",
   "metadata": {},
   "outputs": [],
   "source": [
    "# Importando bibliotecas necessarias\n",
    "from bs4 import BeautifulSoup\n",
    "import requests\n",
    "\n",
    "# Criando url e parseando ela com o BeautifulSoup\n",
    "url_completa = \"https://sites.google.com/view/tssdklscanptbr/volume-1\"\n",
    "page = requests.get(url_completa)\n",
    "soup = BeautifulSoup(page.content, \"html.parser\")\n",
    "\n",
    "\n",
    "# Criando loop para acessar cada section individualmente\n",
    "for section in soup.findAll(\"section\"):  \n",
    "    \n",
    "    # Criando laço para extrair titulos\n",
    "    for titulo in section.findAll(\"h2\"):\n",
    "        titulo = titulo.get_text())   \n",
    "        print(titulo)\n",
    "    \n",
    "    # Criando laço para extrair paragrafos\n",
    "    for paragrafo in section.findAll(\"p\"):\n",
    "        paragrafo = paragrafo.get_text()\n",
    "        print(paragrafo)\n",
    "        \n",
    "    # Criando arquivo teste.txt e adicionando titulo e paragrafo\n",
    "    with open(\"./teste.txt\", \"a\") as arquivo:\n",
    "        arquivo.write(f\"{titulo}\\n\")\n",
    "        arquivo.write(f\"{paragrafo}\\n\")\n",
    "\n",
    "    "
   ]
  }
 ],
 "metadata": {
  "kernelspec": {
   "display_name": "Python 3 (ipykernel)",
   "language": "python",
   "name": "python3"
  },
  "language_info": {
   "codemirror_mode": {
    "name": "ipython",
    "version": 3
   },
   "file_extension": ".py",
   "mimetype": "text/x-python",
   "name": "python",
   "nbconvert_exporter": "python",
   "pygments_lexer": "ipython3",
   "version": "3.10.12"
  }
 },
 "nbformat": 4,
 "nbformat_minor": 5
}
